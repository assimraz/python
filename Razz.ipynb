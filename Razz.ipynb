{
 "cells": [
  {
   "cell_type": "code",
   "execution_count": 2,
   "id": "0d913432",
   "metadata": {},
   "outputs": [
    {
     "name": "stdout",
     "output_type": "stream",
     "text": [
      "Enter the first number:222\n",
      "Enter the second number:333\n",
      "B is greater than A\n"
     ]
    }
   ],
   "source": [
    "a=int(input(\"Enter the first number:\"))\n",
    "b=int(input(\"Enter the second number:\"))\n",
    "if a>b:\n",
    "    print(\"A is greater than B\")\n",
    "else:\n",
    "    print(\"B is greater than A\")"
   ]
  },
  {
   "cell_type": "code",
   "execution_count": 4,
   "id": "12d735eb",
   "metadata": {},
   "outputs": [
    {
     "name": "stdout",
     "output_type": "stream",
     "text": [
      "Enter a number : 52\n",
      "A is an Even\n"
     ]
    }
   ],
   "source": [
    "a=int(input(\"Enter a number : \"))\n",
    "if a%2==0:\n",
    "    print(\"A is an Even\")\n",
    "else:\n",
    "    print(\"Entered number is Odd\")"
   ]
  },
  {
   "cell_type": "code",
   "execution_count": 7,
   "id": "fc79dbfe",
   "metadata": {},
   "outputs": [
    {
     "name": "stdout",
     "output_type": "stream",
     "text": [
      "Enter a number : 54\n",
      "A is an Even\n"
     ]
    }
   ],
   "source": [
    "a=int(input(\"Enter a number : \"))\n",
    "if a%2==0:\n",
    "    print(\"A is an Even\")\n",
    "else:\n",
    "    print(\"Entered number is Odd\")"
   ]
  },
  {
   "cell_type": "code",
   "execution_count": 27,
   "id": "b9249fad",
   "metadata": {
    "scrolled": true
   },
   "outputs": [
    {
     "ename": "KeyboardInterrupt",
     "evalue": "Interrupted by user",
     "output_type": "error",
     "traceback": [
      "\u001b[1;31m---------------------------------------------------------------------------\u001b[0m",
      "\u001b[1;31mKeyboardInterrupt\u001b[0m                         Traceback (most recent call last)",
      "Cell \u001b[1;32mIn[27], line 1\u001b[0m\n\u001b[1;32m----> 1\u001b[0m a\u001b[38;5;241m=\u001b[39m\u001b[38;5;28mint\u001b[39m(\u001b[38;5;28minput\u001b[39m(\u001b[38;5;124m\"\u001b[39m\u001b[38;5;124mTotal Amount : \u001b[39m\u001b[38;5;124m\"\u001b[39m))\n\u001b[0;32m      2\u001b[0m \u001b[38;5;28;01mif\u001b[39;00m a\u001b[38;5;241m>\u001b[39m\u001b[38;5;241m2500\u001b[39m:\n\u001b[0;32m      3\u001b[0m     \u001b[38;5;28mprint\u001b[39m(\u001b[38;5;124m\"\u001b[39m\u001b[38;5;124mYou have 10\u001b[39m\u001b[38;5;132;01m% d\u001b[39;00m\u001b[38;5;124miscount:\u001b[39m\u001b[38;5;124m\"\u001b[39m, p)\n",
      "File \u001b[1;32m~\\anaconda3\\Lib\\site-packages\\ipykernel\\kernelbase.py:1202\u001b[0m, in \u001b[0;36mKernel.raw_input\u001b[1;34m(self, prompt)\u001b[0m\n\u001b[0;32m   1200\u001b[0m     msg \u001b[38;5;241m=\u001b[39m \u001b[38;5;124m\"\u001b[39m\u001b[38;5;124mraw_input was called, but this frontend does not support input requests.\u001b[39m\u001b[38;5;124m\"\u001b[39m\n\u001b[0;32m   1201\u001b[0m     \u001b[38;5;28;01mraise\u001b[39;00m StdinNotImplementedError(msg)\n\u001b[1;32m-> 1202\u001b[0m \u001b[38;5;28;01mreturn\u001b[39;00m \u001b[38;5;28mself\u001b[39m\u001b[38;5;241m.\u001b[39m_input_request(\n\u001b[0;32m   1203\u001b[0m     \u001b[38;5;28mstr\u001b[39m(prompt),\n\u001b[0;32m   1204\u001b[0m     \u001b[38;5;28mself\u001b[39m\u001b[38;5;241m.\u001b[39m_parent_ident[\u001b[38;5;124m\"\u001b[39m\u001b[38;5;124mshell\u001b[39m\u001b[38;5;124m\"\u001b[39m],\n\u001b[0;32m   1205\u001b[0m     \u001b[38;5;28mself\u001b[39m\u001b[38;5;241m.\u001b[39mget_parent(\u001b[38;5;124m\"\u001b[39m\u001b[38;5;124mshell\u001b[39m\u001b[38;5;124m\"\u001b[39m),\n\u001b[0;32m   1206\u001b[0m     password\u001b[38;5;241m=\u001b[39m\u001b[38;5;28;01mFalse\u001b[39;00m,\n\u001b[0;32m   1207\u001b[0m )\n",
      "File \u001b[1;32m~\\anaconda3\\Lib\\site-packages\\ipykernel\\kernelbase.py:1245\u001b[0m, in \u001b[0;36mKernel._input_request\u001b[1;34m(self, prompt, ident, parent, password)\u001b[0m\n\u001b[0;32m   1242\u001b[0m \u001b[38;5;28;01mexcept\u001b[39;00m \u001b[38;5;167;01mKeyboardInterrupt\u001b[39;00m:\n\u001b[0;32m   1243\u001b[0m     \u001b[38;5;66;03m# re-raise KeyboardInterrupt, to truncate traceback\u001b[39;00m\n\u001b[0;32m   1244\u001b[0m     msg \u001b[38;5;241m=\u001b[39m \u001b[38;5;124m\"\u001b[39m\u001b[38;5;124mInterrupted by user\u001b[39m\u001b[38;5;124m\"\u001b[39m\n\u001b[1;32m-> 1245\u001b[0m     \u001b[38;5;28;01mraise\u001b[39;00m \u001b[38;5;167;01mKeyboardInterrupt\u001b[39;00m(msg) \u001b[38;5;28;01mfrom\u001b[39;00m \u001b[38;5;28;01mNone\u001b[39;00m\n\u001b[0;32m   1246\u001b[0m \u001b[38;5;28;01mexcept\u001b[39;00m \u001b[38;5;167;01mException\u001b[39;00m:\n\u001b[0;32m   1247\u001b[0m     \u001b[38;5;28mself\u001b[39m\u001b[38;5;241m.\u001b[39mlog\u001b[38;5;241m.\u001b[39mwarning(\u001b[38;5;124m\"\u001b[39m\u001b[38;5;124mInvalid Message:\u001b[39m\u001b[38;5;124m\"\u001b[39m, exc_info\u001b[38;5;241m=\u001b[39m\u001b[38;5;28;01mTrue\u001b[39;00m)\n",
      "\u001b[1;31mKeyboardInterrupt\u001b[0m: Interrupted by user"
     ]
    }
   ],
   "source": [
    "a=int(input(\"Total Amount : \"))\n",
    "if a>2500:\n",
    "    print(\"You have 10% discount:\", p)\n",
    "    p=((a/100)*10)\n",
    "    result=a-p\n",
    "    print(result, \"Payable amount\")\n",
    "else:\n",
    "    print(\"Thank You Come Again\")\n",
    "    "
   ]
  },
  {
   "cell_type": "code",
   "execution_count": 28,
   "id": "dd8ef405",
   "metadata": {},
   "outputs": [
    {
     "name": "stdout",
     "output_type": "stream",
     "text": [
      "1st number1\n",
      "2nd number2\n",
      "3rd number3\n",
      "3 greater\n"
     ]
    }
   ],
   "source": [
    "a=int(input(\"1st number\"))\n",
    "b=int(input(\"2nd number\"))\n",
    "c=int(input(\"3rd number\"))\n",
    "if a>b and a>c:\n",
    "    print(a,\"greater\")\n",
    "elif b>a and b>c:\n",
    "    print(b,\"greater\")\n",
    "elif c>a and c>b:\n",
    "    print(c,\"greater\")\n",
    "else:\n",
    "    print(\"invalid\")"
   ]
  },
  {
   "cell_type": "code",
   "execution_count": 9,
   "id": "c121fb10",
   "metadata": {},
   "outputs": [
    {
     "data": {
      "text/plain": [
       "0.5254442323175019"
      ]
     },
     "execution_count": 9,
     "metadata": {},
     "output_type": "execute_result"
    }
   ],
   "source": [
    "import random\n",
    "num=random.random()\n",
    "num"
   ]
  },
  {
   "cell_type": "code",
   "execution_count": 10,
   "id": "d1f9b15d",
   "metadata": {},
   "outputs": [
    {
     "data": {
      "text/plain": [
       "20"
      ]
     },
     "execution_count": 10,
     "metadata": {},
     "output_type": "execute_result"
    }
   ],
   "source": [
    "a=[10,20,30]\n",
    "x=random.choice(a)\n",
    "x"
   ]
  },
  {
   "cell_type": "code",
   "execution_count": 17,
   "id": "391652e2",
   "metadata": {},
   "outputs": [
    {
     "name": "stdout",
     "output_type": "stream",
     "text": [
      "select stone or paper or sciccor : stone\n",
      "system =  scissor\n",
      "user =  stone\n",
      "user wins\n"
     ]
    }
   ],
   "source": [
    "a=[\"stone\",\"paper\",\"scissor\"]\n",
    "user=input(\"select stone or paper or sciccor : \")\n",
    "system=random.choice(a)\n",
    "print(\"system = \",system)\n",
    "print(\"user = \",user)\n",
    "\n",
    "if system==user:\n",
    "    print(\"drow\")\n",
    "elif system==\"stone\" and user==\"scissor\":\n",
    "    print(\"system wins\")\n",
    "elif system==\"scissor\" and user==\"paper\":\n",
    "    print(\"system wins\")\n",
    "elif system==\"paper\" and user==\"stone\":\n",
    "    print(\"system wins\")\n",
    "elif system==\"scissor\" and user==\"stone\":\n",
    "    print(\"user wins\")\n",
    "elif system==\"scissor\" and user==\"paper\":\n",
    "    print(\"user wins\")\n",
    "elif system==\"paper\" and user==\"stone\":\n",
    "    print(\"user wins\")\n",
    "else:\n",
    "    print(\"invalid\")\n",
    "    "
   ]
  },
  {
   "cell_type": "code",
   "execution_count": 20,
   "id": "863bc76d",
   "metadata": {},
   "outputs": [
    {
     "name": "stdout",
     "output_type": "stream",
     "text": [
      "1st value=1\n",
      "2nd value=2\n",
      "3rd value=3\n",
      "3 is greater\n"
     ]
    }
   ],
   "source": [
    "a=int(input(\"1st value=\"))\n",
    "b=int(input(\"2nd value=\"))\n",
    "c=int(input(\"3rd value=\"))\n",
    "\n",
    "if a>b:\n",
    "    if a>c:\n",
    "        print(a,\"is greater\")\n",
    "    else:\n",
    "        print(c,\"is greater\")\n",
    "elif c>b:\n",
    "    print(c,\"is greater\")\n",
    "else :\n",
    "    print(b, \"is greater\")\n",
    "        "
   ]
  },
  {
   "cell_type": "code",
   "execution_count": 30,
   "id": "160d879e",
   "metadata": {},
   "outputs": [
    {
     "ename": "SyntaxError",
     "evalue": "invalid syntax. Maybe you meant '==' or ':=' instead of '='? (652199343.py, line 1)",
     "output_type": "error",
     "traceback": [
      "\u001b[1;36m  Cell \u001b[1;32mIn[30], line 1\u001b[1;36m\u001b[0m\n\u001b[1;33m    for(i=0;i<n;i++)\u001b[0m\n\u001b[1;37m        ^\u001b[0m\n\u001b[1;31mSyntaxError\u001b[0m\u001b[1;31m:\u001b[0m invalid syntax. Maybe you meant '==' or ':=' instead of '='?\n"
     ]
    }
   ],
   "source": [
    "for(i=0;i<n;i++)"
   ]
  },
  {
   "cell_type": "code",
   "execution_count": 32,
   "id": "94d08e56",
   "metadata": {},
   "outputs": [
    {
     "name": "stdout",
     "output_type": "stream",
     "text": [
      "0\n",
      "1\n",
      "2\n",
      "3\n",
      "4\n",
      "5\n",
      "6\n",
      "7\n",
      "8\n",
      "9\n"
     ]
    }
   ],
   "source": [
    "for i in range(0,10):\n",
    "    print(i)"
   ]
  },
  {
   "cell_type": "code",
   "execution_count": 33,
   "id": "2dcb0f0e",
   "metadata": {},
   "outputs": [
    {
     "name": "stdout",
     "output_type": "stream",
     "text": [
      "0\n",
      "1\n",
      "3\n",
      "6\n",
      "10\n",
      "15\n",
      "21\n",
      "28\n",
      "36\n",
      "45\n"
     ]
    }
   ],
   "source": [
    "s=0 \n",
    "for i in range(0,10):\n",
    "    s=s+i\n",
    "    print(s)"
   ]
  },
  {
   "cell_type": "code",
   "execution_count": 37,
   "id": "17023893",
   "metadata": {},
   "outputs": [
    {
     "name": "stdout",
     "output_type": "stream",
     "text": [
      "5\n",
      "10\n",
      "15\n",
      "20\n",
      "25\n",
      "30\n",
      "35\n",
      "40\n",
      "45\n"
     ]
    }
   ],
   "source": [
    "for i in range(5,50,5):\n",
    "    print(i)"
   ]
  },
  {
   "cell_type": "code",
   "execution_count": 51,
   "id": "353f0343",
   "metadata": {},
   "outputs": [
    {
     "name": "stdout",
     "output_type": "stream",
     "text": [
      "Enter the number3\n",
      "the factorial of 3 = 6\n"
     ]
    }
   ],
   "source": [
    "s=1\n",
    "a=int(input(\"Enter the number\"))\n",
    "for i in range(1,a+1):\n",
    "    s=s*i\n",
    "print( \"the factorial of\",a ,\"=\",s)"
   ]
  },
  {
   "cell_type": "code",
   "execution_count": 1,
   "id": "1691ace7",
   "metadata": {},
   "outputs": [
    {
     "name": "stdout",
     "output_type": "stream",
     "text": [
      "Enter the number : 5\n",
      "Enter the limit : 10\n",
      "1  *  5 =  5\n",
      "2  *  5 =  10\n",
      "3  *  5 =  15\n",
      "4  *  5 =  20\n",
      "5  *  5 =  25\n",
      "6  *  5 =  30\n",
      "7  *  5 =  35\n",
      "8  *  5 =  40\n",
      "9  *  5 =  45\n",
      "10  *  5 =  50\n"
     ]
    }
   ],
   "source": [
    "a=int(input(\"Enter the number : \"))\n",
    "b=int(input(\"Enter the limit : \"))\n",
    "for i in range(1,b+1):\n",
    "    s=a*i\n",
    "    print(i ,\" * \",a , \"= \" , s)"
   ]
  },
  {
   "cell_type": "code",
   "execution_count": 2,
   "id": "f39d7cee",
   "metadata": {},
   "outputs": [
    {
     "name": "stdout",
     "output_type": "stream",
     "text": [
      "Enter the number : 10\n",
      "0\n",
      "1\n",
      "1\n",
      "2\n",
      "3\n",
      "5\n",
      "8\n",
      "13\n",
      "21\n",
      "34\n"
     ]
    }
   ],
   "source": [
    "r=int(input(\"Enter the number : \"))\n",
    "a=0\n",
    "b=1\n",
    "c=0\n",
    "print(a)\n",
    "print(b)\n",
    "for i in range(0,r-2):\n",
    "    c=a+b\n",
    "    print(c)\n",
    "    a=b\n",
    "    b=c"
   ]
  },
  {
   "cell_type": "code",
   "execution_count": 3,
   "id": "6c566ecf",
   "metadata": {},
   "outputs": [
    {
     "name": "stdout",
     "output_type": "stream",
     "text": [
      "aseem\n",
      "aswin\n"
     ]
    }
   ],
   "source": [
    "a=[\"abhay\",\"hrithic\",\"aseem\",\"aswin\",\"anhinav\",\"amaljith\",\"faheem\",\"vishnu\",\"amana\",\"navya\"]\n",
    "s=len(a)\n",
    "for i in range(2,4):\n",
    "    print(a[i])"
   ]
  },
  {
   "cell_type": "code",
   "execution_count": null,
   "id": "9c349d93",
   "metadata": {},
   "outputs": [],
   "source": [
    "n=int(input(\"enter a number:\"))\n",
    "for i in range(0,n):\n",
    "    for k in range(0,n):\n",
    "        print(k)\n",
    "    print(i)    "
   ]
  },
  {
   "cell_type": "code",
   "execution_count": 16,
   "id": "bbc5d0b4",
   "metadata": {},
   "outputs": [
    {
     "name": "stdout",
     "output_type": "stream",
     "text": [
      "😊 \n",
      "😊 😊 \n",
      "😊 😊 😊 \n",
      "😊 😊 😊 😊 \n",
      "😊 😊 😊 😊 😊 \n"
     ]
    }
   ],
   "source": [
    "for i in range(0,5):\n",
    "    for j in range(0,i+1):\n",
    "        print(\"😊\",end=\" \")\n",
    "    print('')"
   ]
  },
  {
   "cell_type": "code",
   "execution_count": 36,
   "id": "8a9d2755",
   "metadata": {},
   "outputs": [
    {
     "name": "stdout",
     "output_type": "stream",
     "text": [
      "1\n",
      "2\n",
      "3\n",
      "4\n",
      "5\n",
      "7\n",
      "8\n",
      "9\n",
      "10\n"
     ]
    }
   ],
   "source": [
    "a=0\n",
    "while(a<10):\n",
    "    a=a+1\n",
    "    if a==6:\n",
    "        continue\n",
    "    print(a)\n"
   ]
  },
  {
   "cell_type": "code",
   "execution_count": 43,
   "id": "546efdc0",
   "metadata": {},
   "outputs": [
    {
     "name": "stdout",
     "output_type": "stream",
     "text": [
      "0\n"
     ]
    }
   ],
   "source": [
    "a=0\n",
    "if (a>5):\n",
    "    pass\n",
    "print(a)\n"
   ]
  },
  {
   "cell_type": "code",
   "execution_count": 62,
   "id": "cac23cec",
   "metadata": {},
   "outputs": [
    {
     "name": "stdout",
     "output_type": "stream",
     "text": [
      "select stone or paper or sciccor : stone\n",
      "system =  paper\n",
      "user =  stone\n",
      "system wins 1\n",
      "select stone or paper or sciccor : stone\n",
      "system =  scissor\n",
      "user =  stone\n",
      "user wins 1\n",
      "select stone or paper or sciccor : stone\n",
      "system =  scissor\n",
      "user =  stone\n",
      "user wins 2\n",
      "select stone or paper or sciccor : stone\n",
      "system =  scissor\n",
      "user =  stone\n",
      "user wins 3\n",
      "select stone or paper or sciccor : stone\n",
      "system =  scissor\n",
      "user =  stone\n",
      "user wins 4\n",
      "User wins with 5 points\n"
     ]
    }
   ],
   "source": [
    "import random\n",
    "d=0\n",
    "r1=1\n",
    "r2=1\n",
    "while(d<5):\n",
    "    a=[\"stone\",\"paper\",\"scissor\"]\n",
    "    user=input(\"select stone or paper or sciccor : \")\n",
    "    system=random.choice(a)\n",
    "    print(\"system = \",system)\n",
    "    print(\"user = \",user)\n",
    "\n",
    "    if system==user:\n",
    "        print(\"drow\")\n",
    "    elif system==\"stone\" and user==\"scissor\":\n",
    "        print(\"system wins\",r1)\n",
    "        r1=r1+1\n",
    "    elif system==\"scissor\" and user==\"paper\":\n",
    "        print(\"system wins\",r1)\n",
    "        r1=r1+1\n",
    "    elif system==\"paper\" and user==\"stone\":\n",
    "        print(\"system wins\",r1)\n",
    "        r1=r1+1\n",
    "    elif system==\"scissor\" and user==\"stone\":\n",
    "        print(\"user wins\",r2)\n",
    "        r2=r2+1\n",
    "    elif system==\"scissor\" and user==\"paper\":\n",
    "        print(\"user wins\",r2)\n",
    "        r2=r2+1\n",
    "    elif system==\"paper\" and user==\"stone\":\n",
    "        print(\"user wins\",r2)\n",
    "        r2=r2+1\n",
    "    else:\n",
    "        print(\"invalid\")\n",
    "    d=d+1\n",
    "if r1>r2:\n",
    "    print(\"System wins with\",r1,\"points\")\n",
    "elif r2==r1:\n",
    "    print(\"draw\")\n",
    "else:\n",
    "    print(\"User wins with\",r2,\"points\")\n",
    "    "
   ]
  },
  {
   "cell_type": "code",
   "execution_count": 77,
   "id": "0d6548bc",
   "metadata": {},
   "outputs": [
    {
     "name": "stdout",
     "output_type": "stream",
     "text": [
      "Enter the number : 5\n",
      "the factorial of 5 = 120\n"
     ]
    }
   ],
   "source": [
    "s=1\n",
    "a=int(input(\"Enter the number : \"))\n",
    "for i in range(1,a+1):\n",
    "    s=s*i\n",
    "print( \"the factorial of\",a ,\"=\",s)"
   ]
  },
  {
   "cell_type": "code",
   "execution_count": 83,
   "id": "2f94fe01",
   "metadata": {},
   "outputs": [
    {
     "name": "stdout",
     "output_type": "stream",
     "text": [
      "Enter the number : 5\n",
      "fact of 5 is 120\n"
     ]
    }
   ],
   "source": [
    "num=int(input(\"Enter the number : \"))\n",
    "s=1\n",
    "a=1\n",
    "while(a<=num):\n",
    "    s=s*a\n",
    "    a+=1\n",
    "print(\"fact of\",num,\"is\",fact)\n",
    "    "
   ]
  },
  {
   "cell_type": "code",
   "execution_count": 84,
   "id": "a4e11926",
   "metadata": {},
   "outputs": [
    {
     "name": "stdout",
     "output_type": "stream",
     "text": [
      "Enter the number : 5\n",
      "0\n",
      "1\n",
      "1\n",
      "2\n",
      "3\n"
     ]
    }
   ],
   "source": [
    "n=int(input(\"Enter the number : \"))\n",
    "a=0\n",
    "b=1\n",
    "c=0\n",
    "print(a)\n",
    "print(b)\n",
    "while 0<n-2:\n",
    "    c=a+b\n",
    "    print(c)\n",
    "    a=b\n",
    "    b=c\n",
    "    n=n-1"
   ]
  },
  {
   "cell_type": "code",
   "execution_count": 94,
   "id": "318896ed",
   "metadata": {},
   "outputs": [
    {
     "name": "stdout",
     "output_type": "stream",
     "text": [
      "1\n",
      "3\n",
      "5\n",
      "7\n",
      "9\n"
     ]
    }
   ],
   "source": [
    "a=1\n",
    "while(True):\n",
    "    if a==11:\n",
    "        break\n",
    "    print(a)\n",
    "    a=a+2"
   ]
  },
  {
   "cell_type": "code",
   "execution_count": 109,
   "id": "e14d7b82",
   "metadata": {},
   "outputs": [
    {
     "name": "stdout",
     "output_type": "stream",
     "text": [
      "Enter the 1st number : 20\n",
      "Enter the 2nd number : 30\n"
     ]
    },
    {
     "data": {
      "text/plain": [
       "50"
      ]
     },
     "execution_count": 109,
     "metadata": {},
     "output_type": "execute_result"
    }
   ],
   "source": [
    "def sum():\n",
    "    a=int(input(\"Enter the 1st number : \"))\n",
    "    b=int(input(\"Enter the 2nd number : \"))\n",
    "    return(a+b)\n",
    "sum()"
   ]
  },
  {
   "cell_type": "code",
   "execution_count": 97,
   "id": "a6462b89",
   "metadata": {},
   "outputs": [
    {
     "name": "stdout",
     "output_type": "stream",
     "text": [
      "30\n"
     ]
    }
   ],
   "source": [
    "def sum():\n",
    "    a=10\n",
    "    b=20\n",
    "    print(a+b)\n",
    "sum()"
   ]
  },
  {
   "cell_type": "code",
   "execution_count": 103,
   "id": "54192092",
   "metadata": {},
   "outputs": [
    {
     "name": "stdout",
     "output_type": "stream",
     "text": [
      "-10\n",
      "3\n"
     ]
    }
   ],
   "source": [
    "def sub(a,b):\n",
    "    x=a\n",
    "    y=b\n",
    "    c=x-y\n",
    "    print(c)\n",
    "sub(20,30)\n",
    "print(c)"
   ]
  },
  {
   "cell_type": "code",
   "execution_count": 111,
   "id": "f7eebc21",
   "metadata": {},
   "outputs": [
    {
     "name": "stdout",
     "output_type": "stream",
     "text": [
      "20\n"
     ]
    }
   ],
   "source": [
    "def sub(a,b):\n",
    "    x=a\n",
    "    y=b\n",
    "    c=x-y\n",
    "    return (c)\n",
    "z=sub(30,10)\n",
    "print(z)"
   ]
  },
  {
   "cell_type": "code",
   "execution_count": 113,
   "id": "3d73e40a",
   "metadata": {},
   "outputs": [
    {
     "name": "stdout",
     "output_type": "stream",
     "text": [
      "40\n"
     ]
    }
   ],
   "source": [
    "def add(a,b):\n",
    "    x=a\n",
    "    y=b\n",
    "    c=x+y\n",
    "    return(c)\n",
    "z=add(30,10)\n",
    "print(z)"
   ]
  },
  {
   "cell_type": "code",
   "execution_count": 118,
   "id": "f91b0e69",
   "metadata": {},
   "outputs": [
    {
     "name": "stdout",
     "output_type": "stream",
     "text": [
      "18\n"
     ]
    }
   ],
   "source": [
    "def mul(a,b):\n",
    "    x=a\n",
    "    y=b\n",
    "    c=x*y\n",
    "    return(c)\n",
    "z=mul(3,6)\n",
    "print(z)"
   ]
  },
  {
   "cell_type": "code",
   "execution_count": 120,
   "id": "378fd1da",
   "metadata": {},
   "outputs": [
    {
     "name": "stdout",
     "output_type": "stream",
     "text": [
      "4.0\n"
     ]
    }
   ],
   "source": [
    "def div(a,b):\n",
    "    x=a\n",
    "    y=b\n",
    "    c=x/y\n",
    "    return(c)\n",
    "z=div(40,10)\n",
    "print(z)"
   ]
  },
  {
   "cell_type": "code",
   "execution_count": 135,
   "id": "a2440c64",
   "metadata": {},
   "outputs": [
    {
     "name": "stdout",
     "output_type": "stream",
     "text": [
      "Enter the number : 50\n",
      "Enter the numebr : 80\n",
      "Enter the operation : -\n",
      "-30\n"
     ]
    }
   ],
   "source": [
    "def sub(a,b):\n",
    "    c=a-b\n",
    "    print(c)\n",
    "def add(a,b):\n",
    "    c=a+b\n",
    "    print(c)\n",
    "def mul(a,b):\n",
    "    c=a*b\n",
    "    print(c)\n",
    "def div(a,b):\n",
    "    c=a/b\n",
    "    print(c)\n",
    "    \n",
    "a=int(input(\"Enter the number : \"))\n",
    "b=int(input(\"Enter the numebr : \"))\n",
    "c=input(\"Enter the operation : \")\n",
    "\n",
    "if c==\"-\":\n",
    "    sub(a,b)\n",
    "elif c==\"+\":\n",
    "    add(a,b)\n",
    "elif c==\"*\":\n",
    "    mul(a,b)\n",
    "elif c==\"/\":\n",
    "    div(a,b)\n",
    "else:\n",
    "    print(\"invalid\")"
   ]
  },
  {
   "cell_type": "code",
   "execution_count": 146,
   "id": "17a128e9",
   "metadata": {},
   "outputs": [
    {
     "name": "stdout",
     "output_type": "stream",
     "text": [
      "Enter the number : 5\n",
      "120\n"
     ]
    }
   ],
   "source": [
    "def fact():\n",
    "    s=1 \n",
    "    a=int(input(\"Enter the number : \"))\n",
    "    for i in range(1,a+1):\n",
    "        s=s*i\n",
    "    return(s)\n",
    "f=fact()\n",
    "print(f)\n"
   ]
  },
  {
   "cell_type": "code",
   "execution_count": 162,
   "id": "22cf0ceb",
   "metadata": {},
   "outputs": [
    {
     "name": "stdout",
     "output_type": "stream",
     "text": [
      "Enter the number : 5\n",
      "May\n",
      "2023-12-18 15:03:30.743892\n"
     ]
    }
   ],
   "source": [
    "a=int(input(\"Enter the number : \"))\n",
    "def month(a):\n",
    "    if a==1:\n",
    "        print(\"Jan\")\n",
    "        print(x)\n",
    "    elif a==2:\n",
    "        print(\"Feb\")\n",
    "        print(x)\n",
    "    elif a==3:\n",
    "        print(\"Mar\")\n",
    "        print(x)\n",
    "    elif a==4:\n",
    "        print(\"Apr\")\n",
    "        print(x)\n",
    "    elif a==5:\n",
    "        print(\"May\")\n",
    "        print(x)\n",
    "    elif a==6:\n",
    "        print(\"Jun\")\n",
    "    elif a==7:\n",
    "        print(x)\n",
    "        print(\"Jul\")\n",
    "    elif a==8:\n",
    "        print(\"Aug\")\n",
    "        print(x)\n",
    "    elif a==9:\n",
    "        print(\"Sep\")\n",
    "        print(x)\n",
    "    elif a==10:\n",
    "        print(\"Oct\")\n",
    "        print(x)\n",
    "    elif a==11:\n",
    "        print(\"Nov\")\n",
    "        print(x)\n",
    "    elif a==12:\n",
    "        print(\"Dec\")\n",
    "        print(x)\n",
    "    else:\n",
    "        print(\"Go Hell\")\n",
    "        \n",
    "month(a)    "
   ]
  },
  {
   "cell_type": "code",
   "execution_count": 161,
   "id": "0b71a20d",
   "metadata": {},
   "outputs": [
    {
     "name": "stdout",
     "output_type": "stream",
     "text": [
      "2023-12-18 15:03:30.743892\n"
     ]
    }
   ],
   "source": [
    "import datetime\n",
    "x=datetime.datetime.now()\n",
    "print(x)"
   ]
  },
  {
   "cell_type": "code",
   "execution_count": 172,
   "id": "3b000113",
   "metadata": {},
   "outputs": [
    {
     "name": "stdout",
     "output_type": "stream",
     "text": [
      "Enter the number : 1\n",
      "1 not a prime number\n"
     ]
    }
   ],
   "source": [
    "a=int(input(\"Enter the number : \"))\n",
    "def prime(x):\n",
    "    b=2\n",
    "    for i in range(2,a):\n",
    "        if(a%i==0):\n",
    "            b=b+1\n",
    "    if b<2:\n",
    "        print(a,\"is a prime number\")\n",
    "    else:\n",
    "        print(a,\"not a prime number\")\n",
    "prime(a)"
   ]
  },
  {
   "cell_type": "code",
   "execution_count": null,
   "id": "34b331b3",
   "metadata": {},
   "outputs": [],
   "source": []
  }
 ],
 "metadata": {
  "kernelspec": {
   "display_name": "Python 3 (ipykernel)",
   "language": "python",
   "name": "python3"
  },
  "language_info": {
   "codemirror_mode": {
    "name": "ipython",
    "version": 3
   },
   "file_extension": ".py",
   "mimetype": "text/x-python",
   "name": "python",
   "nbconvert_exporter": "python",
   "pygments_lexer": "ipython3",
   "version": "3.11.5"
  }
 },
 "nbformat": 4,
 "nbformat_minor": 5
}
